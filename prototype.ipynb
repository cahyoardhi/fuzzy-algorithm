{
 "cells": [
  {
   "cell_type": "code",
   "execution_count": null,
   "metadata": {},
   "outputs": [],
   "source": [
    "#((27+34+41+48+55)*0.2 + (62+69+76+83+90)*0.5) / ((0.5)*5 + (0.2)*5)    kasus 1\n",
    "#((45 + 50 + 55) * 0.75 + (60+65+70+75+80+85+90) * 0.25 / ((0.75)*3) + (0.25)*7)) kasus 2"
   ]
  },
  {
   "cell_type": "code",
   "execution_count": 11,
   "metadata": {},
   "outputs": [
    {
     "output_type": "execute_result",
     "data": {
      "text/plain": "67.41935483870968"
     },
     "metadata": {},
     "execution_count": 11
    }
   ],
   "source": [
    "(((0 + 10 +20)*0.1) + ((30 + 40 +50 + 60)*0.2) + ((70 + 80 +90 + 100)*0.5))  / ((0.1*3) + (0.2*4) + (0.5*4))"
   ]
  },
  {
   "cell_type": "code",
   "execution_count": 15,
   "metadata": {},
   "outputs": [
    {
     "output_type": "execute_result",
     "data": {
      "text/plain": "502.5"
     },
     "metadata": {},
     "execution_count": 15
    }
   ],
   "source": [
    "k1 = 830\n",
    "k2 = 600\n",
    "k3 = 550\n",
    "k4 = 620\n",
    "\n",
    "mk1 = 830\n",
    "mk2 = 500\n",
    "mk3 = 400\n",
    "mk4 = 280\n",
    "\n",
    "sum([mk1,mk2,mk3,mk4])/4"
   ]
  },
  {
   "cell_type": "code",
   "execution_count": 21,
   "metadata": {},
   "outputs": [
    {
     "output_type": "execute_result",
     "data": {
      "text/plain": "27"
     },
     "metadata": {},
     "execution_count": 21
    }
   ],
   "source": [
    "k1 = [5, 7, 3, 8, 0, 0, 4]\n",
    "sum(k1)"
   ]
  }
 ],
 "metadata": {
  "language_info": {
   "name": "python",
   "codemirror_mode": {
    "name": "ipython",
    "version": 3
   },
   "version": "3.7.7-final"
  },
  "orig_nbformat": 2,
  "file_extension": ".py",
  "mimetype": "text/x-python",
  "name": "python",
  "npconvert_exporter": "python",
  "pygments_lexer": "ipython3",
  "version": 3,
  "kernelspec": {
   "name": "python3",
   "display_name": "Python 3"
  }
 },
 "nbformat": 4,
 "nbformat_minor": 2
}